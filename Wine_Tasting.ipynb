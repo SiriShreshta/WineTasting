{
 "cells": [
  {
   "cell_type": "markdown",
   "id": "e9acc6c2",
   "metadata": {},
   "source": [
    "# Wine-Tasting Machine\n",
    "## Task1"
   ]
  },
  {
   "cell_type": "code",
   "execution_count": 1,
   "id": "a037d094",
   "metadata": {},
   "outputs": [],
   "source": [
    "!pip install pandas-profiling\n"
   ]
  },
  {
   "cell_type": "code",
   "execution_count": 2,
   "id": "e9c47391",
   "metadata": {},
   "outputs": [],
   "source": [
    "import pandas as pd\n",
    "import numpy as np\n",
    "from pandas_profiling import ProfileReport\n",
    "data = pd.read_csv(\"red_wine.csv\")"
   ]
  },
  {
   "cell_type": "code",
   "execution_count": 3,
   "id": "3d726eb4",
   "metadata": {},
   "outputs": [],
   "source": [
    "profile = ProfileReport(data)\n",
    "profile.to_file(\"red_wine-report.html\")"
   ]
  },
  {
   "cell_type": "code",
   "execution_count": 4,
   "id": "45236800",
   "metadata": {},
   "outputs": [
    {
     "data": {
      "text/html": [
       "<div>\n",
       "<style scoped>\n",
       "    .dataframe tbody tr th:only-of-type {\n",
       "        vertical-align: middle;\n",
       "    }\n",
       "\n",
       "    .dataframe tbody tr th {\n",
       "        vertical-align: top;\n",
       "    }\n",
       "\n",
       "    .dataframe thead th {\n",
       "        text-align: right;\n",
       "    }\n",
       "</style>\n",
       "<table border=\"1\" class=\"dataframe\">\n",
       "  <thead>\n",
       "    <tr style=\"text-align: right;\">\n",
       "      <th></th>\n",
       "      <th>citric acid</th>\n",
       "      <th>sulphates</th>\n",
       "      <th>alcohol</th>\n",
       "      <th>type</th>\n",
       "    </tr>\n",
       "  </thead>\n",
       "  <tbody>\n",
       "    <tr>\n",
       "      <th>0</th>\n",
       "      <td>False</td>\n",
       "      <td>False</td>\n",
       "      <td>False</td>\n",
       "      <td>False</td>\n",
       "    </tr>\n",
       "    <tr>\n",
       "      <th>1</th>\n",
       "      <td>False</td>\n",
       "      <td>False</td>\n",
       "      <td>False</td>\n",
       "      <td>False</td>\n",
       "    </tr>\n",
       "    <tr>\n",
       "      <th>2</th>\n",
       "      <td>False</td>\n",
       "      <td>False</td>\n",
       "      <td>False</td>\n",
       "      <td>False</td>\n",
       "    </tr>\n",
       "    <tr>\n",
       "      <th>3</th>\n",
       "      <td>False</td>\n",
       "      <td>False</td>\n",
       "      <td>False</td>\n",
       "      <td>False</td>\n",
       "    </tr>\n",
       "    <tr>\n",
       "      <th>4</th>\n",
       "      <td>False</td>\n",
       "      <td>False</td>\n",
       "      <td>False</td>\n",
       "      <td>False</td>\n",
       "    </tr>\n",
       "    <tr>\n",
       "      <th>...</th>\n",
       "      <td>...</td>\n",
       "      <td>...</td>\n",
       "      <td>...</td>\n",
       "      <td>...</td>\n",
       "    </tr>\n",
       "    <tr>\n",
       "      <th>566</th>\n",
       "      <td>False</td>\n",
       "      <td>False</td>\n",
       "      <td>False</td>\n",
       "      <td>False</td>\n",
       "    </tr>\n",
       "    <tr>\n",
       "      <th>567</th>\n",
       "      <td>False</td>\n",
       "      <td>False</td>\n",
       "      <td>False</td>\n",
       "      <td>False</td>\n",
       "    </tr>\n",
       "    <tr>\n",
       "      <th>568</th>\n",
       "      <td>False</td>\n",
       "      <td>False</td>\n",
       "      <td>False</td>\n",
       "      <td>False</td>\n",
       "    </tr>\n",
       "    <tr>\n",
       "      <th>569</th>\n",
       "      <td>False</td>\n",
       "      <td>False</td>\n",
       "      <td>False</td>\n",
       "      <td>False</td>\n",
       "    </tr>\n",
       "    <tr>\n",
       "      <th>570</th>\n",
       "      <td>False</td>\n",
       "      <td>False</td>\n",
       "      <td>False</td>\n",
       "      <td>False</td>\n",
       "    </tr>\n",
       "  </tbody>\n",
       "</table>\n",
       "<p>571 rows × 4 columns</p>\n",
       "</div>"
      ],
      "text/plain": [
       "     citric acid  sulphates  alcohol   type\n",
       "0          False      False    False  False\n",
       "1          False      False    False  False\n",
       "2          False      False    False  False\n",
       "3          False      False    False  False\n",
       "4          False      False    False  False\n",
       "..           ...        ...      ...    ...\n",
       "566        False      False    False  False\n",
       "567        False      False    False  False\n",
       "568        False      False    False  False\n",
       "569        False      False    False  False\n",
       "570        False      False    False  False\n",
       "\n",
       "[571 rows x 4 columns]"
      ]
     },
     "execution_count": 4,
     "metadata": {},
     "output_type": "execute_result"
    }
   ],
   "source": [
    "data.isna()"
   ]
  },
  {
   "cell_type": "code",
   "execution_count": 5,
   "id": "e0240e4d",
   "metadata": {},
   "outputs": [
    {
     "name": "stdout",
     "output_type": "stream",
     "text": [
      "<class 'pandas.core.frame.DataFrame'>\n",
      "RangeIndex: 571 entries, 0 to 570\n",
      "Data columns (total 4 columns):\n",
      " #   Column       Non-Null Count  Dtype  \n",
      "---  ------       --------------  -----  \n",
      " 0   citric acid  571 non-null    float64\n",
      " 1   sulphates    571 non-null    float64\n",
      " 2   alcohol      571 non-null    float64\n",
      " 3   type         571 non-null    object \n",
      "dtypes: float64(3), object(1)\n",
      "memory usage: 18.0+ KB\n"
     ]
    }
   ],
   "source": [
    "data.info()"
   ]
  },
  {
   "cell_type": "code",
   "execution_count": 6,
   "id": "825b7bdf",
   "metadata": {},
   "outputs": [
    {
     "data": {
      "text/plain": [
       "(571, 4)"
      ]
     },
     "execution_count": 6,
     "metadata": {},
     "output_type": "execute_result"
    }
   ],
   "source": [
    "data.shape"
   ]
  },
  {
   "cell_type": "markdown",
   "id": "a8056760",
   "metadata": {},
   "source": [
    "# Fitting a model using 10-Fold Criss-Validation\n",
    "## Task 2"
   ]
  },
  {
   "cell_type": "code",
   "execution_count": 7,
   "id": "72bdddfb",
   "metadata": {},
   "outputs": [
    {
     "name": "stdout",
     "output_type": "stream",
     "text": [
      "                 Model  Accuracy       AUC\n",
      "0             Baseline  0.528887  0.500000\n",
      "1  Logistic Regression  0.784392  0.873926\n",
      "2          Naive Bayes  0.824773  0.890495\n",
      "3        Decision Tree  0.808923  0.811067\n",
      "4           SVM-Linear  0.793134  0.872240\n",
      "5              SVM-RBF  0.535844  0.852286\n",
      "6        Random Forest  0.849153  0.924900\n"
     ]
    }
   ],
   "source": [
    "import pandas as pd\n",
    "from sklearn.model_selection import cross_val_score, StratifiedKFold, cross_val_predict\n",
    "from sklearn.ensemble import RandomForestClassifier\n",
    "from sklearn.linear_model import LogisticRegression\n",
    "from sklearn.naive_bayes import GaussianNB\n",
    "from sklearn.tree import DecisionTreeClassifier\n",
    "from sklearn.svm import SVC\n",
    "from sklearn.metrics import roc_auc_score, accuracy_score\n",
    "from sklearn.dummy import DummyClassifier\n",
    "\n",
    "# Split the dataset into features and target variable\n",
    "X = data.drop(\"type\", axis=1)\n",
    "y = data[\"type\"]\n",
    "\n",
    "# Create 10-fold cross-validation\n",
    "cv = StratifiedKFold(n_splits=10, shuffle=True, random_state=42)\n",
    "\n",
    "# Define models\n",
    "models = {\n",
    "    \"Baseline\": DummyClassifier(strategy=\"most_frequent\"),\n",
    "    \"Logistic Regression\": LogisticRegression(max_iter=10000),\n",
    "    \"Naive Bayes\": GaussianNB(),\n",
    "    \"Decision Tree\": DecisionTreeClassifier(),\n",
    "    \"SVM-Linear\": SVC(kernel='linear', probability=True),  # Enable probability estimates\n",
    "    \"SVM-RBF\": SVC(kernel='rbf', probability=True),  # Enable probability estimates\n",
    "    \"Random Forest\": RandomForestClassifier()\n",
    "}\n",
    "\n",
    "# Initialize lists to store accuracy and AUC results\n",
    "accuracy_results = []\n",
    "auc_results = []\n",
    "\n",
    "# Evaluate each model using cross-validation\n",
    "for model_name, model in models.items():\n",
    "    # Calculate accuracy\n",
    "    accuracy = cross_val_score(model, X, y, scoring=\"accuracy\", cv=cv)\n",
    "    mean_accuracy = accuracy.mean()\n",
    "\n",
    "    # Calculate AUC\n",
    "    if model_name == \"Baseline\":\n",
    "        auc = 0.5  # AUC for a random classifier\n",
    "    else:\n",
    "        if hasattr(model, \"predict_proba\"):\n",
    "            y_pred = cross_val_predict(model, X, y, cv=cv, method=\"predict_proba\")\n",
    "        elif hasattr(model, \"decision_function\"):\n",
    "            y_pred = cross_val_predict(model, X, y, cv=cv, method=\"decision_function\")\n",
    "        else:\n",
    "            y_pred = cross_val_predict(model, X, y, cv=cv)\n",
    "        auc = roc_auc_score(y, y_pred[:, 1])\n",
    "\n",
    "    accuracy_results.append(mean_accuracy)\n",
    "    auc_results.append(auc)\n",
    "\n",
    "# Create a DataFrame to display the results\n",
    "results_df = pd.DataFrame({\n",
    "    \"Model\": models.keys(),\n",
    "    \"Accuracy\": accuracy_results,\n",
    "    \"AUC\": auc_results\n",
    "})\n",
    "# Print the results in tabular format\n",
    "print(results_df)\n"
   ]
  },
  {
   "cell_type": "markdown",
   "id": "29251b21",
   "metadata": {},
   "source": [
    "# ROC Curve of Random Forest classifer\n",
    "## Task 3"
   ]
  },
  {
   "cell_type": "code",
   "execution_count": 8,
   "id": "295b2e07",
   "metadata": {},
   "outputs": [],
   "source": [
    "data['type'] = data['type'].map({'low': 0, 'high': 1})"
   ]
  },
  {
   "cell_type": "code",
   "execution_count": 9,
   "id": "ae73ea05",
   "metadata": {},
   "outputs": [
    {
     "data": {
      "image/png": "[encoded data removed]",
      "text/plain": [
       "<Figure size 800x600 with 1 Axes>"
      ]
     },
     "metadata": {},
     "output_type": "display_data"
    }
   ],
   "source": [
    "import pandas as pd\n",
    "from sklearn.model_selection import StratifiedKFold, cross_val_predict\n",
    "from sklearn.ensemble import RandomForestClassifier\n",
    "from sklearn.metrics import roc_curve, auc\n",
    "import matplotlib.pyplot as plt\n",
    "import numpy as np  # Add this line\n",
    "\n",
    "# Assuming 'high' is the positive class and 'low' is the negative class\n",
    "# Convert the target variable to binary (1 for 'high', 0 for 'low')\n",
    "X = data.drop(\"type\", axis=1)\n",
    "y = data[\"type\"]\n",
    "# Create 10-fold cross-validation\n",
    "cv = StratifiedKFold(n_splits=10, shuffle=True, random_state=42)\n",
    "\n",
    "# Define the Random Forest model\n",
    "rf_model = RandomForestClassifier()\n",
    "\n",
    "# Initialize lists to store ROC curve data\n",
    "mean_fpr = np.linspace(0, 1, 100)\n",
    "tpr_list = []\n",
    "\n",
    "# Calculate and plot the ROC curve for the Random Forest model\n",
    "for train_idx, test_idx in cv.split(X, y):\n",
    "    X_train, X_test = X.iloc[train_idx], X.iloc[test_idx]\n",
    "    y_train, y_test = y.iloc[train_idx], y.iloc[test_idx]\n",
    "\n",
    "    # Fit the model on the training data\n",
    "    rf_model.fit(X_train, y_train)\n",
    "\n",
    "    # Predict probabilities for the test data\n",
    "    y_pred_proba = rf_model.predict_proba(X_test)\n",
    "\n",
    "    # Calculate the ROC curve for the current fold\n",
    "    fpr, tpr, _ = roc_curve(y_test, y_pred_proba[:, 1])\n",
    "    tpr_list.append(np.interp(mean_fpr, fpr, tpr))\n",
    "\n",
    "# Calculate the mean ROC curve and AUC\n",
    "mean_tpr = np.mean(tpr_list, axis=0)\n",
    "roc_auc = auc(mean_fpr, mean_tpr)\n",
    "\n",
    "# Plot the ROC curve\n",
    "plt.figure(figsize=(8, 6))\n",
    "plt.plot(mean_fpr, mean_tpr, color='b', label='Random Forest (AUC = {:.2f})'.format(roc_auc))\n",
    "plt.plot([0, 1], [0, 1], color='gray', linestyle='--')\n",
    "plt.xlim([0.0, 1.0])\n",
    "plt.ylim([0.0, 1.05])\n",
    "plt.xlabel('False Positive Rate')\n",
    "plt.ylabel('True Positive Rate')\n",
    "plt.title('Receiver Operating Characteristic (ROC) Curve for Random Forest')\n",
    "plt.legend(loc=\"lower right\")\n",
    "plt.show()\n"
   ]
  },
  {
   "cell_type": "markdown",
   "id": "c023c362",
   "metadata": {},
   "source": [
    "# Task 4\n",
    "## Random Forest model has the highest AUC (0.92), suggesting it as the best model "
   ]
  },
  {
   "cell_type": "code",
   "execution_count": 10,
   "id": "0e2d751f",
   "metadata": {},
   "outputs": [
    {
     "name": "stdout",
     "output_type": "stream",
     "text": [
      "AUC score for Random Forest on white-wine dataset is: 0.890909090909091\n"
     ]
    }
   ],
   "source": [
    "import pandas as pd\n",
    "from sklearn.ensemble import RandomForestClassifier\n",
    "from sklearn.model_selection import train_test_split\n",
    "from sklearn.metrics import roc_auc_score\n",
    "\n",
    "# Load the white wine dataset\n",
    "white_wine_data = pd.read_csv(\"white_wine.csv\")\n",
    "\n",
    "# Separate features (X) and target variable (y)\n",
    "X = white_wine_data.drop(\"type\", axis=1)\n",
    "y = white_wine_data[\"type\"]\n",
    "\n",
    "# Split the data into a training and testing set\n",
    "X_train, X_test, y_train, y_test = train_test_split(X, y, test_size=0.2, random_state=42)\n",
    "\n",
    "# Create and fit a Random Forest classifier\n",
    "rf_classifier = RandomForestClassifier()\n",
    "rf_classifier.fit(X_train, y_train)\n",
    "\n",
    "# Get predicted probabilities for the positive class\n",
    "y_pred_prob = rf_classifier.predict_proba(X_test)[:, 1]\n",
    "\n",
    "# Calculate the AUC score\n",
    "auc_score = roc_auc_score(y_test, y_pred_prob)\n",
    "\n",
    "# Report the AUC score\n",
    "print(\"AUC score for Random Forest on white-wine dataset is:\", auc_score)\n"
   ]
  },
  {
   "cell_type": "code",
   "execution_count": null,
   "id": "cdd09054",
   "metadata": {},
   "outputs": [],
   "source": []
  }
 ],
 "metadata": {
  "kernelspec": {
   "display_name": "Python 3 (ipykernel)",
   "language": "python",
   "name": "python3"
  },
  "language_info": {
   "codemirror_mode": {
    "name": "ipython",
    "version": 3
   },
   "file_extension": ".py",
   "mimetype": "text/x-python",
   "name": "python",
   "nbconvert_exporter": "python",
   "pygments_lexer": "ipython3",
   "version": "3.11.5"
  }
 },
 "nbformat": 4,
 "nbformat_minor": 5
}
